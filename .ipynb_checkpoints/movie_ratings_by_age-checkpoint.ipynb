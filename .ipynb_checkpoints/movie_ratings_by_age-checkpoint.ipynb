{
 "cells": [
  {
   "cell_type": "markdown",
   "metadata": {},
   "source": [
    "# Data Analysis of Movies by Rating Relative to Age"
   ]
  },
  {
   "cell_type": "code",
   "execution_count": 173,
   "metadata": {},
   "outputs": [],
   "source": [
    "from sklearn.metrics import accuracy_score\n",
    "from sklearn.metrics import classification_report\n",
    "from sklearn.metrics import confusion_matrix\n",
    "import matplotlib.pyplot as plt\n",
    "from sklearn.svm import SVC\n",
    "import datetime as dt\n",
    "import numpy as np\n",
    "import pandas as pd\n",
    "import re"
   ]
  },
  {
   "cell_type": "code",
   "execution_count": 174,
   "metadata": {},
   "outputs": [],
   "source": [
    "# Data source: https://grouplens.org/datasets/movielens/20m/\n",
    "# Successfully matched MD5 checksum with reference provided (data verified)\n",
    "\n",
    "moviesMstr = pd.read_csv(\"/Users/Levient/Movie_Ratings/ml-20m/movies.csv\")\n",
    "ratingsMstr = pd.read_csv(\"/Users/Levient/Movie_Ratings/ml-20m/ratings.csv\")"
   ]
  },
  {
   "cell_type": "code",
   "execution_count": 175,
   "metadata": {},
   "outputs": [
    {
     "name": "stdout",
     "output_type": "stream",
     "text": [
      "Movies\n",
      "    movieId                               title\n",
      "0        1                    Toy Story (1995)\n",
      "1        2                      Jumanji (1995)\n",
      "2        3             Grumpier Old Men (1995)\n",
      "3        4            Waiting to Exhale (1995)\n",
      "4        5  Father of the Bride Part II (1995) \n",
      "Ratings\n",
      "    movieId  rating\n",
      "0        2     3.5\n",
      "1       29     3.5\n",
      "2       32     3.5\n",
      "3       47     3.5\n",
      "4       50     3.5\n"
     ]
    }
   ],
   "source": [
    "# All rows for 'movieId' and 'title(year)'\n",
    "\n",
    "movies = moviesMstr[[\"movieId\", \"title\"]]\n",
    "\n",
    "# All rows for 'movieId' and 'rating'\n",
    "\n",
    "ratings = ratingsMstr[[\"movieId\", \"rating\"]]\n",
    "\n",
    "print('Movies\\n', movies.head(), '\\nRatings\\n', ratings.head())"
   ]
  },
  {
   "cell_type": "code",
   "execution_count": 211,
   "metadata": {},
   "outputs": [
    {
     "name": "stdout",
     "output_type": "stream",
     "text": [
      "Average Ratings for All Movies\n",
      "    movieId  rating   average\n",
      "0        2     3.5  3.211977\n",
      "1       29     3.5  3.952230\n",
      "2       32     3.5  3.898055\n",
      "3       47     3.5  4.053493\n",
      "4       50     3.5  4.334372\n"
     ]
    }
   ],
   "source": [
    "# Average all ratings per movie and add 'average' column\n",
    "\n",
    "# The below ratings.loc function yields a 'chained_assignment' warning (not an error), despite use of df.loc[]. \n",
    "# The issue should probably be revisited: https://stackoverflow.com/questions/20625582/how-to-deal-with-settingwithcopywarning-in-pandas\n",
    "\n",
    "pd.options.mode.chained_assignment = None  # default='warn'\n",
    "\n",
    "ratings.loc[:,'average'] = ratings.groupby('movieId')['rating'].transform('mean')\n",
    "\n",
    "print('Average Ratings for All Movies\\n', ratings.head())"
   ]
  },
  {
   "cell_type": "code",
   "execution_count": 177,
   "metadata": {},
   "outputs": [
    {
     "name": "stdout",
     "output_type": "stream",
     "text": [
      "Before\n",
      " (20000263, 3)\n",
      "After\n",
      " (26744, 2)\n",
      "Total movies (27278, 2)\n",
      "Averages\n",
      "    movieId   average\n",
      "0        2  3.211977\n",
      "1       29  3.952230\n",
      "2       32  3.898055\n",
      "3       47  4.053493\n",
      "4       50  4.334372\n"
     ]
    }
   ],
   "source": [
    "# Remove duplicate ratings rows from ratings, drop rating column\n",
    "\n",
    "print('Before\\n', ratings.shape)\n",
    "\n",
    "average_ratings = ratings.drop_duplicates(subset=['movieId', 'average']).drop(columns=['rating'])\n",
    "\n",
    "print('After\\n', average_ratings.shape)\n",
    "print('Total movies', movies.shape)\n",
    "print('Averages\\n', average_ratings.head())\n",
    "\n",
    "# Issue to explore: There are more movies than there are average reviews. "
   ]
  },
  {
   "cell_type": "code",
   "execution_count": 178,
   "metadata": {},
   "outputs": [
    {
     "name": "stdout",
     "output_type": "stream",
     "text": [
      "Median of Average Ratings\n",
      " 3.601982097186701 \n",
      "Mean of Average Ratings\n",
      " 3.5255285642995635\n"
     ]
    }
   ],
   "source": [
    "# Find median (and mean) of all ratings\n",
    "\n",
    "ratings_median = ratings[\"average\"].median()\n",
    "ratings_mean = ratings[\"average\"].mean()\n",
    "\n",
    "print(\"Median of Average Ratings\\n\", ratings_median, \"\\nMean of Average Ratings\\n\", ratings_mean)"
   ]
  },
  {
   "cell_type": "code",
   "execution_count": 212,
   "metadata": {},
   "outputs": [],
   "source": [
    "# The classify_age function extracts a year in parens from 'title(year)' and returns a string (e.g. 'old') \n",
    "\n",
    "def classify_age(row):\n",
    "    year = extract_year(row)\n",
    "    return assign_age(year)\n",
    "\n",
    "def extract_year(row):\n",
    "  year_in_parens = re.compile('(?<=\\()(\\d{4})(?=\\))')\n",
    "  result = year_in_parens.search(row['title'])\n",
    "  if result:\n",
    "    return result.group(0)\n",
    "  else: \n",
    "    return None\n",
    "  \n",
    "def assign_age(year):\n",
    "    if year == None:\n",
    "        return \"unknown\"\n",
    "    year = dt.datetime(int(year), 1, 1)\n",
    "    if year < dt.datetime(1970, 1, 1):\n",
    "        return \"old\"\n",
    "    elif year < dt.datetime(1990, 1, 1):\n",
    "        return \"medium\"\n",
    "    else:\n",
    "        return \"new\""
   ]
  },
  {
   "cell_type": "code",
   "execution_count": 213,
   "metadata": {},
   "outputs": [
    {
     "data": {
      "text/html": [
       "<div>\n",
       "<style scoped>\n",
       "    .dataframe tbody tr th:only-of-type {\n",
       "        vertical-align: middle;\n",
       "    }\n",
       "\n",
       "    .dataframe tbody tr th {\n",
       "        vertical-align: top;\n",
       "    }\n",
       "\n",
       "    .dataframe thead th {\n",
       "        text-align: right;\n",
       "    }\n",
       "</style>\n",
       "<table border=\"1\" class=\"dataframe\">\n",
       "  <thead>\n",
       "    <tr style=\"text-align: right;\">\n",
       "      <th></th>\n",
       "      <th>movieId</th>\n",
       "      <th>title</th>\n",
       "      <th>age</th>\n",
       "    </tr>\n",
       "  </thead>\n",
       "  <tbody>\n",
       "    <tr>\n",
       "      <th>27273</th>\n",
       "      <td>131254</td>\n",
       "      <td>Kein Bund für's Leben (2007)</td>\n",
       "      <td>new</td>\n",
       "    </tr>\n",
       "    <tr>\n",
       "      <th>27274</th>\n",
       "      <td>131256</td>\n",
       "      <td>Feuer, Eis &amp; Dosenbier (2002)</td>\n",
       "      <td>new</td>\n",
       "    </tr>\n",
       "    <tr>\n",
       "      <th>27275</th>\n",
       "      <td>131258</td>\n",
       "      <td>The Pirates (2014)</td>\n",
       "      <td>new</td>\n",
       "    </tr>\n",
       "    <tr>\n",
       "      <th>27276</th>\n",
       "      <td>131260</td>\n",
       "      <td>Rentun Ruusu (2001)</td>\n",
       "      <td>new</td>\n",
       "    </tr>\n",
       "    <tr>\n",
       "      <th>27277</th>\n",
       "      <td>131262</td>\n",
       "      <td>Innocence (2014)</td>\n",
       "      <td>new</td>\n",
       "    </tr>\n",
       "  </tbody>\n",
       "</table>\n",
       "</div>"
      ],
      "text/plain": [
       "       movieId                          title  age\n",
       "27273   131254   Kein Bund für's Leben (2007)  new\n",
       "27274   131256  Feuer, Eis & Dosenbier (2002)  new\n",
       "27275   131258             The Pirates (2014)  new\n",
       "27276   131260            Rentun Ruusu (2001)  new\n",
       "27277   131262               Innocence (2014)  new"
      ]
     },
     "execution_count": 213,
     "metadata": {},
     "output_type": "execute_result"
    }
   ],
   "source": [
    "# Applying classify_age returns a new column 'age' with 4 classes: 'old', 'medium', 'new' and 'unknown'\n",
    "\n",
    "movies['age'] = movies.apply(classify_age, axis=1)\n",
    "\n",
    "movies.tail()"
   ]
  },
  {
   "cell_type": "code",
   "execution_count": 198,
   "metadata": {},
   "outputs": [
    {
     "name": "stdout",
     "output_type": "stream",
     "text": [
      "Totals Counts of Each Age\n",
      " age\n",
      "medium      4674\n",
      "new        17118\n",
      "old         5464\n",
      "unknown       22\n",
      "Name: title, dtype: int64\n",
      "\n",
      "Percentages of Each Age\n",
      " age\n",
      "medium     17.476817\n",
      "new        64.006880\n",
      "old        20.430751\n",
      "unknown     0.082261\n",
      "Name: title, dtype: float64\n"
     ]
    }
   ],
   "source": [
    "# Calculate number and percentage of each age\n",
    "\n",
    "age_counts = movies.groupby('age')['title'].count()\n",
    "percentages = age_counts.groupby(level=0).apply(lambda x: 100 * x / 26744)\n",
    "\n",
    "print('Totals Counts of Each Age\\n', age_counts)\n",
    "print('\\nPercentages of Each Age\\n', percentages)"
   ]
  },
  {
   "cell_type": "code",
   "execution_count": 215,
   "metadata": {},
   "outputs": [
    {
     "data": {
      "text/html": [
       "<div>\n",
       "<style scoped>\n",
       "    .dataframe tbody tr th:only-of-type {\n",
       "        vertical-align: middle;\n",
       "    }\n",
       "\n",
       "    .dataframe tbody tr th {\n",
       "        vertical-align: top;\n",
       "    }\n",
       "\n",
       "    .dataframe thead th {\n",
       "        text-align: right;\n",
       "    }\n",
       "</style>\n",
       "<table border=\"1\" class=\"dataframe\">\n",
       "  <thead>\n",
       "    <tr style=\"text-align: right;\">\n",
       "      <th></th>\n",
       "      <th>movieId</th>\n",
       "      <th>title</th>\n",
       "      <th>age</th>\n",
       "      <th>average</th>\n",
       "    </tr>\n",
       "  </thead>\n",
       "  <tbody>\n",
       "    <tr>\n",
       "      <th>0</th>\n",
       "      <td>1</td>\n",
       "      <td>Toy Story (1995)</td>\n",
       "      <td>new</td>\n",
       "      <td>3.921240</td>\n",
       "    </tr>\n",
       "    <tr>\n",
       "      <th>1</th>\n",
       "      <td>2</td>\n",
       "      <td>Jumanji (1995)</td>\n",
       "      <td>new</td>\n",
       "      <td>3.211977</td>\n",
       "    </tr>\n",
       "    <tr>\n",
       "      <th>2</th>\n",
       "      <td>3</td>\n",
       "      <td>Grumpier Old Men (1995)</td>\n",
       "      <td>new</td>\n",
       "      <td>3.151040</td>\n",
       "    </tr>\n",
       "    <tr>\n",
       "      <th>3</th>\n",
       "      <td>4</td>\n",
       "      <td>Waiting to Exhale (1995)</td>\n",
       "      <td>new</td>\n",
       "      <td>2.861393</td>\n",
       "    </tr>\n",
       "    <tr>\n",
       "      <th>4</th>\n",
       "      <td>5</td>\n",
       "      <td>Father of the Bride Part II (1995)</td>\n",
       "      <td>new</td>\n",
       "      <td>3.064592</td>\n",
       "    </tr>\n",
       "  </tbody>\n",
       "</table>\n",
       "</div>"
      ],
      "text/plain": [
       "   movieId                               title  age   average\n",
       "0        1                    Toy Story (1995)  new  3.921240\n",
       "1        2                      Jumanji (1995)  new  3.211977\n",
       "2        3             Grumpier Old Men (1995)  new  3.151040\n",
       "3        4            Waiting to Exhale (1995)  new  2.861393\n",
       "4        5  Father of the Bride Part II (1995)  new  3.064592"
      ]
     },
     "execution_count": 215,
     "metadata": {},
     "output_type": "execute_result"
    }
   ],
   "source": [
    "# Inner join movies and ratings by movieId. Validate one-to-one relationship.\n",
    "\n",
    "movie_ratings = pd.merge(movies, average_ratings, validate=\"1:1\")\n",
    "\n",
    "movie_ratings.head()"
   ]
  },
  {
   "cell_type": "code",
   "execution_count": 204,
   "metadata": {},
   "outputs": [
    {
     "data": {
      "text/html": [
       "<div>\n",
       "<style scoped>\n",
       "    .dataframe tbody tr th:only-of-type {\n",
       "        vertical-align: middle;\n",
       "    }\n",
       "\n",
       "    .dataframe tbody tr th {\n",
       "        vertical-align: top;\n",
       "    }\n",
       "\n",
       "    .dataframe thead th {\n",
       "        text-align: right;\n",
       "    }\n",
       "</style>\n",
       "<table border=\"1\" class=\"dataframe\">\n",
       "  <thead>\n",
       "    <tr style=\"text-align: right;\">\n",
       "      <th></th>\n",
       "      <th>movieId</th>\n",
       "      <th>title</th>\n",
       "      <th>age</th>\n",
       "      <th>average</th>\n",
       "    </tr>\n",
       "  </thead>\n",
       "  <tbody>\n",
       "    <tr>\n",
       "      <th>19152</th>\n",
       "      <td>95517</td>\n",
       "      <td>Barchester Chronicles, The (1982)</td>\n",
       "      <td>medium</td>\n",
       "      <td>5.0</td>\n",
       "    </tr>\n",
       "    <tr>\n",
       "      <th>26416</th>\n",
       "      <td>129516</td>\n",
       "      <td>Poison (1951)</td>\n",
       "      <td>old</td>\n",
       "      <td>5.0</td>\n",
       "    </tr>\n",
       "    <tr>\n",
       "      <th>23345</th>\n",
       "      <td>111797</td>\n",
       "      <td>This Thing With Sarah (2013)</td>\n",
       "      <td>new</td>\n",
       "      <td>5.0</td>\n",
       "    </tr>\n",
       "    <tr>\n",
       "      <th>23283</th>\n",
       "      <td>111548</td>\n",
       "      <td>Welcome to Australia (1999)</td>\n",
       "      <td>new</td>\n",
       "      <td>5.0</td>\n",
       "    </tr>\n",
       "    <tr>\n",
       "      <th>23282</th>\n",
       "      <td>111546</td>\n",
       "      <td>Paying the Price: Killing the Children of Iraq...</td>\n",
       "      <td>new</td>\n",
       "      <td>5.0</td>\n",
       "    </tr>\n",
       "  </tbody>\n",
       "</table>\n",
       "</div>"
      ],
      "text/plain": [
       "       movieId                                              title     age  \\\n",
       "19152    95517                  Barchester Chronicles, The (1982)  medium   \n",
       "26416   129516                                      Poison (1951)     old   \n",
       "23345   111797                       This Thing With Sarah (2013)     new   \n",
       "23283   111548                        Welcome to Australia (1999)     new   \n",
       "23282   111546  Paying the Price: Killing the Children of Iraq...     new   \n",
       "\n",
       "       average  \n",
       "19152      5.0  \n",
       "26416      5.0  \n",
       "23345      5.0  \n",
       "23283      5.0  \n",
       "23282      5.0  "
      ]
     },
     "execution_count": 204,
     "metadata": {},
     "output_type": "execute_result"
    }
   ],
   "source": [
    "# Sorting movies by average rating\n",
    "\n",
    "movie_ratings = movie_ratings.sort_values(by=['average'], ascending=False)\n",
    "\n",
    "\n",
    "movie_ratings.head()"
   ]
  },
  {
   "cell_type": "code",
   "execution_count": 205,
   "metadata": {},
   "outputs": [
    {
     "data": {
      "text/html": [
       "<div>\n",
       "<style scoped>\n",
       "    .dataframe tbody tr th:only-of-type {\n",
       "        vertical-align: middle;\n",
       "    }\n",
       "\n",
       "    .dataframe tbody tr th {\n",
       "        vertical-align: top;\n",
       "    }\n",
       "\n",
       "    .dataframe thead th {\n",
       "        text-align: right;\n",
       "    }\n",
       "</style>\n",
       "<table border=\"1\" class=\"dataframe\">\n",
       "  <thead>\n",
       "    <tr style=\"text-align: right;\">\n",
       "      <th></th>\n",
       "      <th>movieId</th>\n",
       "      <th>title</th>\n",
       "      <th>age</th>\n",
       "      <th>average</th>\n",
       "    </tr>\n",
       "  </thead>\n",
       "  <tbody>\n",
       "    <tr>\n",
       "      <th>25599</th>\n",
       "      <td>124963</td>\n",
       "      <td>House Party: Tonight's the Night (2013)</td>\n",
       "      <td>new</td>\n",
       "      <td>0.5</td>\n",
       "    </tr>\n",
       "    <tr>\n",
       "      <th>25612</th>\n",
       "      <td>125159</td>\n",
       "      <td>Safety Patrol (1998)</td>\n",
       "      <td>new</td>\n",
       "      <td>0.5</td>\n",
       "    </tr>\n",
       "    <tr>\n",
       "      <th>23342</th>\n",
       "      <td>111789</td>\n",
       "      <td>Gulliver's Travels (1977)</td>\n",
       "      <td>medium</td>\n",
       "      <td>0.5</td>\n",
       "    </tr>\n",
       "    <tr>\n",
       "      <th>18907</th>\n",
       "      <td>94308</td>\n",
       "      <td>Slim Carter (1957)</td>\n",
       "      <td>old</td>\n",
       "      <td>0.5</td>\n",
       "    </tr>\n",
       "    <tr>\n",
       "      <th>25043</th>\n",
       "      <td>119909</td>\n",
       "      <td>Sharpe's Eagle (1993)</td>\n",
       "      <td>new</td>\n",
       "      <td>0.5</td>\n",
       "    </tr>\n",
       "  </tbody>\n",
       "</table>\n",
       "</div>"
      ],
      "text/plain": [
       "       movieId                                    title     age  average\n",
       "25599   124963  House Party: Tonight's the Night (2013)     new      0.5\n",
       "25612   125159                     Safety Patrol (1998)     new      0.5\n",
       "23342   111789                Gulliver's Travels (1977)  medium      0.5\n",
       "18907    94308                       Slim Carter (1957)     old      0.5\n",
       "25043   119909                    Sharpe's Eagle (1993)     new      0.5"
      ]
     },
     "execution_count": 205,
     "metadata": {},
     "output_type": "execute_result"
    }
   ],
   "source": [
    "movie_ratings.tail()"
   ]
  },
  {
   "cell_type": "code",
   "execution_count": 184,
   "metadata": {},
   "outputs": [
    {
     "name": "stdout",
     "output_type": "stream",
     "text": [
      "Length of Total Movie Ratings List\n",
      " (26744, 4)\n",
      "\n",
      "Best 20 percent (Median: 3.85 )\n",
      " (5349, 4) \n",
      "        movieId                              title     age  average\n",
      "19152    95517  Barchester Chronicles, The (1982)  medium      5.0\n",
      "21842   105846               Only Daughter (2013)     new      5.0\n",
      "17703    89133               Boys (Drenge) (1977)  medium      5.0\n",
      "21656   105187          Linotype: The Film (2012)     new      5.0\n",
      "21658   105191                Rocaterrania (2009)     new      5.0\n",
      "\n",
      "Middle 20 percent (Median: 3.24 )\n",
      " (5350, 4) \n",
      "        movieId                                              title     age  \\\n",
      "248        251                                 Hunted, The (1995)     new   \n",
      "2167      2252                                        Hero (1992)     new   \n",
      "21239   103651                                Tai Chi Hero (2012)     new   \n",
      "9599     30890  Keys to the House, The (Chiavi di casa, Le) (2...     new   \n",
      "18856    94061                                    Madhouse (1974)  medium   \n",
      "\n",
      "        average  \n",
      "248    3.050258  \n",
      "2167   3.050031  \n",
      "21239  3.050000  \n",
      "9599   3.050000  \n",
      "18856  3.050000  \n",
      "\n",
      "Worst 20 percent (Median: 2.3 )\n",
      " (5349, 4) \n",
      "        movieId                                  title  age  average\n",
      "26465   129784            Xuxa in Crystal Moon (1990)  new      0.5\n",
      "18534    92479         Kisses for My President (1964)  old      0.5\n",
      "26475   129834  Tom and Jerry: The Lost Dragon (2014)  new      0.5\n",
      "24207   115631             Alone for Christmas (2013)  new      0.5\n",
      "25043   119909                  Sharpe's Eagle (1993)  new      0.5\n"
     ]
    }
   ],
   "source": [
    "print('Length of Total Movie Ratings List\\n', movie_ratings.shape)\n",
    "\n",
    "# Top 20 percent\n",
    "best = movie_ratings.iloc[:5349,:]\n",
    "best_median = best[\"average\"].median()\n",
    "print('\\nBest 20 percent (Median:', round(best_median, 2), ')\\n', best.shape, '\\n', best.head())\n",
    "\n",
    "# Middle 20 percent\n",
    "ok = movie_ratings.iloc[10697:16047,:]\n",
    "ok_median = ok[\"average\"].median()\n",
    "print('\\nMiddle 20 percent (Median:', round(ok_median, 2), ')\\n', ok.shape, '\\n', ok.tail())\n",
    "\n",
    "# Worst 20 percent\n",
    "worst = movie_ratings.iloc[21395:,:]\n",
    "worst_median = worst[\"average\"].median()\n",
    "print('\\nWorst 20 percent (Median:', round(worst_median, 2), ')\\n', worst.shape, '\\n', worst.tail())"
   ]
  },
  {
   "cell_type": "code",
   "execution_count": 185,
   "metadata": {},
   "outputs": [],
   "source": [
    "# Extract 55 percent of our dataset randomly, from which to predict outcomes of remaining 45 percent\n",
    "\n",
    "data_array = movie_ratings.values\n",
    "np.random.shuffle(data_array)\n",
    "\n",
    "X_learning = data_array[:14709][:,3]\n",
    "Y_learning = data_array[:14709][:,2]"
   ]
  },
  {
   "cell_type": "code",
   "execution_count": 186,
   "metadata": {},
   "outputs": [],
   "source": [
    "# \"Teach\" our machine (SVC) about the relationships between 'average' and 'age'\n",
    "# (but first we need to reshape our X np_array into a 1-D array)\n",
    "\n",
    "svc = SVC()\n",
    "svc.fit(X_learning.reshape(-1, 1), Y_learning)\n",
    "\n",
    "# Use the remaining 45 percent of our data as test data\n",
    "X = data_array[-12035:][:,3]\n",
    "Y = data_array[-12035:][:,2]\n",
    "\n",
    "predictions = svc.predict(X.reshape(-1, 1))"
   ]
  },
  {
   "cell_type": "code",
   "execution_count": 187,
   "metadata": {},
   "outputs": [
    {
     "name": "stdout",
     "output_type": "stream",
     "text": [
      "Predicted Results: ['new' 'new' 'new' ... 'new' 'new' 'new']\n",
      "\n",
      "Actual Results: ['old' 'medium' 'old' ... 'new' 'new' 'new']\n",
      "\n",
      "Accuracy rating:  0.629331\n"
     ]
    }
   ],
   "source": [
    "print(\"Predicted Results:\", predictions)\n",
    "print(\"\\nActual Results:\", Y)\n",
    "print(\"\\nAccuracy rating:  %f\" % (accuracy_score(Y, predictions)))"
   ]
  },
  {
   "cell_type": "code",
   "execution_count": 207,
   "metadata": {},
   "outputs": [
    {
     "name": "stdout",
     "output_type": "stream",
     "text": [
      "[[   0 2027    0    0]\n",
      " [   0 7574    0    0]\n",
      " [   0 2424    0    0]\n",
      " [   0   10    0    0]]\n",
      "             precision    recall  f1-score   support\n",
      "\n",
      "     medium       0.00      0.00      0.00      2027\n",
      "        new       0.63      1.00      0.77      7574\n",
      "        old       0.00      0.00      0.00      2424\n",
      "    unknown       0.00      0.00      0.00        10\n",
      "\n",
      "avg / total       0.40      0.63      0.49     12035\n",
      "\n"
     ]
    },
    {
     "name": "stderr",
     "output_type": "stream",
     "text": [
      "/anaconda3/lib/python3.6/site-packages/sklearn/metrics/classification.py:1135: UndefinedMetricWarning: Precision and F-score are ill-defined and being set to 0.0 in labels with no predicted samples.\n",
      "  'precision', 'predicted', average, warn_for)\n"
     ]
    }
   ],
   "source": [
    "print(confusion_matrix(Y, predictions))\n",
    "print(classification_report(Y, predictions))"
   ]
  },
  {
   "cell_type": "code",
   "execution_count": 189,
   "metadata": {},
   "outputs": [],
   "source": [
    "# /anaconda3/lib/python3.6/site-packages/sklearn/metrics/classification.py:1135: UndefinedMetricWarning: Precision and F-score are ill-defined and being set to 0.0 in labels with no predicted samples.\n",
    "#   'precision', 'predicted', average, warn_for)"
   ]
  },
  {
   "cell_type": "code",
   "execution_count": null,
   "metadata": {},
   "outputs": [],
   "source": []
  }
 ],
 "metadata": {
  "kernelspec": {
   "display_name": "Python 3",
   "language": "python",
   "name": "python3"
  },
  "language_info": {
   "codemirror_mode": {
    "name": "ipython",
    "version": 3
   },
   "file_extension": ".py",
   "mimetype": "text/x-python",
   "name": "python",
   "nbconvert_exporter": "python",
   "pygments_lexer": "ipython3",
   "version": "3.6.5"
  }
 },
 "nbformat": 4,
 "nbformat_minor": 2
}
