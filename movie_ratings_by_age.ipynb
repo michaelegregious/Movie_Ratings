{
 "cells": [
  {
   "cell_type": "markdown",
   "metadata": {},
   "source": [
    "# Data Analysis of Movies by Rating Relative to Age"
   ]
  },
  {
   "cell_type": "code",
   "execution_count": 9,
   "metadata": {},
   "outputs": [],
   "source": [
    "import datetime as dt\n",
    "import pandas as pd\n",
    "import re"
   ]
  },
  {
   "cell_type": "code",
   "execution_count": null,
   "metadata": {},
   "outputs": [],
   "source": [
    "# Data source: https://grouplens.org/datasets/movielens/20m/\n",
    "# Successfully matched MD5 checksum with reference provided (data verified)\n",
    "\n",
    "moviesMstr = pd.read_csv(\"/Users/Levient/Movie_Ratings/ml-20m/movies.csv\")\n",
    "ratingsMstr = pd.read_csv(\"/Users/Levient/Movie_Ratings/ml-20m/ratings.csv\")"
   ]
  },
  {
   "cell_type": "code",
   "execution_count": 21,
   "metadata": {},
   "outputs": [
    {
     "name": "stdout",
     "output_type": "stream",
     "text": [
      "Movies\n",
      "    movieId                               title\n",
      "0        1                    Toy Story (1995)\n",
      "1        2                      Jumanji (1995)\n",
      "2        3             Grumpier Old Men (1995)\n",
      "3        4            Waiting to Exhale (1995)\n",
      "4        5  Father of the Bride Part II (1995) \n",
      "Ratings\n",
      "    movieId  rating\n",
      "0        2     3.5\n",
      "1       29     3.5\n",
      "2       32     3.5\n",
      "3       47     3.5\n",
      "4       50     3.5\n"
     ]
    }
   ],
   "source": [
    "# All rows for 'movieId' and 'title(year)''\n",
    "movies = moviesMstr[[\"movieId\", \"title\"]]\n",
    "\n",
    "# All rows for 'movieId' and 'rating'\n",
    "ratings = ratingsMstr[[\"movieId\", \"rating\"]]\n",
    "\n",
    "print('Movies\\n', movies.head(), '\\nRatings\\n', ratings.head())"
   ]
  },
  {
   "cell_type": "code",
   "execution_count": 43,
   "metadata": {},
   "outputs": [
    {
     "name": "stdout",
     "output_type": "stream",
     "text": [
      "Average Ratings for All Movies\n",
      "    movieId  rating   average\n",
      "0        2     3.5  3.211977\n",
      "1       29     3.5  3.952230\n",
      "2       32     3.5  3.898055\n",
      "3       47     3.5  4.053493\n",
      "4       50     3.5  4.334372\n"
     ]
    }
   ],
   "source": [
    "# Average all ratings per movie and add 'average column'\n",
    "ratings.loc[:,'average'] = ratings.groupby('movieId')['rating'].transform('mean')\n",
    "\n",
    "print('Average Ratings for All Movies\\n', ratings.head())"
   ]
  },
  {
   "cell_type": "code",
   "execution_count": 71,
   "metadata": {},
   "outputs": [
    {
     "name": "stdout",
     "output_type": "stream",
     "text": [
      "Before\n",
      " (20000263, 3)\n",
      "After\n",
      " (26744, 2)\n",
      "Total movies (27278, 3)\n",
      "Averages\n",
      "    movieId   average\n",
      "0        2  3.211977\n",
      "1       29  3.952230\n",
      "2       32  3.898055\n",
      "3       47  4.053493\n",
      "4       50  4.334372\n"
     ]
    }
   ],
   "source": [
    "# Remove duplicate ratings rows from ratings, drop rating column\n",
    "\n",
    "print('Before\\n', ratings.shape)\n",
    "\n",
    "average_ratings = ratings.drop_duplicates(subset=['movieId', 'average']).drop(columns=['rating'])\n",
    "\n",
    "print('After\\n', average_ratings.shape)\n",
    "print('Total movies', movies.shape)\n",
    "print('Averages\\n', average_ratings.head())\n",
    "\n",
    "# Issue to explore: There are more movies than there are average reviews. "
   ]
  },
  {
   "cell_type": "code",
   "execution_count": 62,
   "metadata": {},
   "outputs": [
    {
     "name": "stdout",
     "output_type": "stream",
     "text": [
      "Median of Average Ratings\n",
      " 3.601982097186701 \n",
      "Mean of Average Ratings\n",
      " 3.5255285642995635\n"
     ]
    }
   ],
   "source": [
    "# Find median (and mean) of all ratings\n",
    "ratings_median = ratings[\"average\"].median()\n",
    "ratings_mean = ratings[\"average\"].mean()\n",
    "\n",
    "print(\"Median of Average Ratings\\n\", ratings_median, \"\\nMean of Average Ratings\\n\", ratings_mean)"
   ]
  },
  {
   "cell_type": "code",
   "execution_count": 47,
   "metadata": {},
   "outputs": [],
   "source": [
    "# The classify_age function extracts a year in parens from 'title' and returns a string (e.g. 'old') \n",
    "\n",
    "def classify_age(row):\n",
    "    year = extract_year(row)\n",
    "    return assign_age(year)\n",
    "\n",
    "def extract_year(row):\n",
    "  year_in_parens = re.compile('(?<=\\()(\\d{4})(?=\\))')\n",
    "  result = year_in_parens.search(row['title'])\n",
    "  if result:\n",
    "    return result.group(0)\n",
    "  else: \n",
    "    return None\n",
    "  \n",
    "def assign_age(year):\n",
    "    if year == None:\n",
    "      return \"unknown\"\n",
    "    year = dt.datetime(int(year), 1, 1)\n",
    "    if year < dt.datetime(1970, 1, 1):\n",
    "        return \"old\"\n",
    "    elif year < dt.datetime(1990, 1, 1):\n",
    "        return \"medium\"\n",
    "    else:\n",
    "        return \"new\""
   ]
  },
  {
   "cell_type": "code",
   "execution_count": 72,
   "metadata": {},
   "outputs": [
    {
     "name": "stdout",
     "output_type": "stream",
     "text": [
      "       movieId                          title  age\n",
      "27273   131254   Kein Bund für's Leben (2007)  new\n",
      "27274   131256  Feuer, Eis & Dosenbier (2002)  new\n",
      "27275   131258             The Pirates (2014)  new\n",
      "27276   131260            Rentun Ruusu (2001)  new\n",
      "27277   131262               Innocence (2014)  new\n"
     ]
    }
   ],
   "source": [
    "# Applying classify_age returns a new column 'age' with 4 classes: 'old', 'medium', 'new' and 'unknown'\n",
    "\n",
    "movies['age'] = movies.apply(classify_age, axis=1)\n",
    "\n",
    "print(movies.tail())\n",
    "\n",
    "# If time permits: come back and print samples of each!!"
   ]
  },
  {
   "cell_type": "code",
   "execution_count": 69,
   "metadata": {},
   "outputs": [
    {
     "name": "stdout",
     "output_type": "stream",
     "text": [
      "   movieId                               title  age   average\n",
      "0        1                    Toy Story (1995)  new  3.921240\n",
      "1        2                      Jumanji (1995)  new  3.211977\n",
      "2        3             Grumpier Old Men (1995)  new  3.151040\n",
      "3        4            Waiting to Exhale (1995)  new  2.861393\n",
      "4        5  Father of the Bride Part II (1995)  new  3.064592\n"
     ]
    }
   ],
   "source": [
    "# Inner join movies and ratings by movieId. Validate one-to-one relationship.\n",
    "\n",
    "movie_ratings = pd.merge(movies, average_ratings, validate=\"1:1\")\n",
    "\n",
    "print(movie_ratings.head())"
   ]
  },
  {
   "cell_type": "code",
   "execution_count": 98,
   "metadata": {},
   "outputs": [
    {
     "name": "stdout",
     "output_type": "stream",
     "text": [
      "Lowest by Rating\n",
      "        movieId                             title  age  average\n",
      "22757   109359              Gerontophilia (2013)  new      0.5\n",
      "23554   112778  Unrated II: Scary as Hell (2011)  new      0.5\n",
      "15755    80154               Urban Menace (1999)  new      0.5\n",
      "23553   112776                  Bloodline (2011)  new      0.5\n",
      "24647   117630             Double Trouble (1992)  new      0.5\n",
      "\\Highest by Rating\n",
      "        movieId                                          title  age  average\n",
      "24643   117606                                 Divorce (1945)  old      5.0\n",
      "23860   114011            New Rulers of the World, The (2001)  new      5.0\n",
      "9005     26718  Life On A String (Bian chang Bian Zou) (1991)  new      5.0\n",
      "26371   129352                                Freeheld (2007)  new      5.0\n",
      "26416   129516                                  Poison (1951)  old      5.0\n"
     ]
    }
   ],
   "source": [
    "# Sorting movies by average rating\n",
    "\n",
    "movie_ratings = movie_ratings.sort_values(by=['average'], ascending=False)\n",
    "\n",
    "print(\"Lowest by Rating\\n\", movie_ratings.tail())\n",
    "print(\"\\Highest by Rating\\n\", movie_ratings.head())"
   ]
  },
  {
   "cell_type": "code",
   "execution_count": 102,
   "metadata": {},
   "outputs": [
    {
     "name": "stdout",
     "output_type": "stream",
     "text": [
      "Length of Total Movie Ratings List\n",
      " (26744, 4)\n",
      "Best 20 percent\n",
      " (5349, 4) \n",
      "        movieId                                          title  age  average\n",
      "24643   117606                                 Divorce (1945)  old      5.0\n",
      "23860   114011            New Rulers of the World, The (2001)  new      5.0\n",
      "9005     26718  Life On A String (Bian chang Bian Zou) (1991)  new      5.0\n",
      "26371   129352                                Freeheld (2007)  new      5.0\n",
      "26416   129516                                  Poison (1951)  old      5.0\n",
      "\n",
      "Worst 20 percent\n",
      " (5349, 4) \n",
      "        movieId                             title  age  average\n",
      "22757   109359              Gerontophilia (2013)  new      0.5\n",
      "23554   112778  Unrated II: Scary as Hell (2011)  new      0.5\n",
      "15755    80154               Urban Menace (1999)  new      0.5\n",
      "23553   112776                  Bloodline (2011)  new      0.5\n",
      "24647   117630             Double Trouble (1992)  new      0.5\n",
      "\n",
      "Middle 20 percent\n",
      " (5350, 4) \n",
      "        movieId                                              title     age  \\\n",
      "248        251                                 Hunted, The (1995)     new   \n",
      "2167      2252                                        Hero (1992)     new   \n",
      "18856    94061                                    Madhouse (1974)  medium   \n",
      "9599     30890  Keys to the House, The (Chiavi di casa, Le) (2...     new   \n",
      "2169      2254                                     Choices (1981)  medium   \n",
      "\n",
      "        average  \n",
      "248    3.050258  \n",
      "2167   3.050031  \n",
      "18856  3.050000  \n",
      "9599   3.050000  \n",
      "2169   3.050000  \n"
     ]
    }
   ],
   "source": [
    "print('Length of Total Movie Ratings List\\n', movie_ratings.shape)\n",
    "\n",
    "# Top 20 percent\n",
    "best = movie_ratings.iloc[:5349,:]\n",
    "print('Best 20 percent\\n', best.shape, '\\n', best.head())\n",
    "\n",
    "# Worst 20 percent\n",
    "worst = movie_ratings.iloc[21395:,:]\n",
    "print('\\nWorst 20 percent\\n', worst.shape, '\\n', worst.tail())\n",
    "\n",
    "# Middle 20 percent\n",
    "ok = movie_ratings.iloc[10697:16047,:]\n",
    "print('\\nMiddle 20 percent\\n', ok.shape, '\\n', ok.tail())"
   ]
  },
  {
   "cell_type": "code",
   "execution_count": null,
   "metadata": {},
   "outputs": [],
   "source": []
  }
 ],
 "metadata": {
  "kernelspec": {
   "display_name": "Python 3",
   "language": "python",
   "name": "python3"
  },
  "language_info": {
   "codemirror_mode": {
    "name": "ipython",
    "version": 3
   },
   "file_extension": ".py",
   "mimetype": "text/x-python",
   "name": "python",
   "nbconvert_exporter": "python",
   "pygments_lexer": "ipython3",
   "version": "3.6.5"
  }
 },
 "nbformat": 4,
 "nbformat_minor": 2
}
