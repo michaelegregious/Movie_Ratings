{
 "cells": [
  {
   "cell_type": "markdown",
   "metadata": {},
   "source": [
    "# Data Analysis of Movies by Rating Relative to Age"
   ]
  },
  {
   "cell_type": "code",
   "execution_count": 148,
   "metadata": {},
   "outputs": [],
   "source": [
    "from sklearn.metrics import accuracy_score\n",
    "from sklearn.metrics import classification_report\n",
    "from sklearn.metrics import confusion_matrix\n",
    "import matplotlib.pyplot as plt\n",
    "from sklearn.svm import SVC\n",
    "import datetime as dt\n",
    "import numpy as np\n",
    "import pandas as pd\n",
    "import re"
   ]
  },
  {
   "cell_type": "code",
   "execution_count": null,
   "metadata": {},
   "outputs": [],
   "source": [
    "# Data source: https://grouplens.org/datasets/movielens/20m/\n",
    "# Successfully matched MD5 checksum with reference provided (data verified)\n",
    "\n",
    "moviesMstr = pd.read_csv(\"/Users/Levient/Movie_Ratings/ml-20m/movies.csv\")\n",
    "ratingsMstr = pd.read_csv(\"/Users/Levient/Movie_Ratings/ml-20m/ratings.csv\")"
   ]
  },
  {
   "cell_type": "code",
   "execution_count": 21,
   "metadata": {},
   "outputs": [
    {
     "name": "stdout",
     "output_type": "stream",
     "text": [
      "Movies\n",
      "    movieId                               title\n",
      "0        1                    Toy Story (1995)\n",
      "1        2                      Jumanji (1995)\n",
      "2        3             Grumpier Old Men (1995)\n",
      "3        4            Waiting to Exhale (1995)\n",
      "4        5  Father of the Bride Part II (1995) \n",
      "Ratings\n",
      "    movieId  rating\n",
      "0        2     3.5\n",
      "1       29     3.5\n",
      "2       32     3.5\n",
      "3       47     3.5\n",
      "4       50     3.5\n"
     ]
    }
   ],
   "source": [
    "# All rows for 'movieId' and 'title(year)'\n",
    "\n",
    "movies = moviesMstr[[\"movieId\", \"title\"]]\n",
    "\n",
    "# All rows for 'movieId' and 'rating'\n",
    "\n",
    "ratings = ratingsMstr[[\"movieId\", \"rating\"]]\n",
    "\n",
    "print('Movies\\n', movies.head(), '\\nRatings\\n', ratings.head())"
   ]
  },
  {
   "cell_type": "code",
   "execution_count": 43,
   "metadata": {},
   "outputs": [
    {
     "name": "stdout",
     "output_type": "stream",
     "text": [
      "Average Ratings for All Movies\n",
      "    movieId  rating   average\n",
      "0        2     3.5  3.211977\n",
      "1       29     3.5  3.952230\n",
      "2       32     3.5  3.898055\n",
      "3       47     3.5  4.053493\n",
      "4       50     3.5  4.334372\n"
     ]
    }
   ],
   "source": [
    "# Average all ratings per movie and add 'average column'\n",
    "\n",
    "ratings.loc[:,'average'] = ratings.groupby('movieId')['rating'].transform('mean')\n",
    "\n",
    "print('Average Ratings for All Movies\\n', ratings.head())"
   ]
  },
  {
   "cell_type": "code",
   "execution_count": 71,
   "metadata": {},
   "outputs": [
    {
     "name": "stdout",
     "output_type": "stream",
     "text": [
      "Before\n",
      " (20000263, 3)\n",
      "After\n",
      " (26744, 2)\n",
      "Total movies (27278, 3)\n",
      "Averages\n",
      "    movieId   average\n",
      "0        2  3.211977\n",
      "1       29  3.952230\n",
      "2       32  3.898055\n",
      "3       47  4.053493\n",
      "4       50  4.334372\n"
     ]
    }
   ],
   "source": [
    "# Remove duplicate ratings rows from ratings, drop rating column\n",
    "\n",
    "print('Before\\n', ratings.shape)\n",
    "\n",
    "average_ratings = ratings.drop_duplicates(subset=['movieId', 'average']).drop(columns=['rating'])\n",
    "\n",
    "print('After\\n', average_ratings.shape)\n",
    "print('Total movies', movies.shape)\n",
    "print('Averages\\n', average_ratings.head())\n",
    "\n",
    "# Issue to explore: There are more movies than there are average reviews. "
   ]
  },
  {
   "cell_type": "code",
   "execution_count": 62,
   "metadata": {},
   "outputs": [
    {
     "name": "stdout",
     "output_type": "stream",
     "text": [
      "Median of Average Ratings\n",
      " 3.601982097186701 \n",
      "Mean of Average Ratings\n",
      " 3.5255285642995635\n"
     ]
    }
   ],
   "source": [
    "# Find median (and mean) of all ratings\n",
    "\n",
    "ratings_median = ratings[\"average\"].median()\n",
    "ratings_mean = ratings[\"average\"].mean()\n",
    "\n",
    "print(\"Median of Average Ratings\\n\", ratings_median, \"\\nMean of Average Ratings\\n\", ratings_mean)"
   ]
  },
  {
   "cell_type": "code",
   "execution_count": 47,
   "metadata": {},
   "outputs": [],
   "source": [
    "# The classify_age function extracts a year in parens from 'title' and returns a string (e.g. 'old') \n",
    "\n",
    "def classify_age(row):\n",
    "    year = extract_year(row)\n",
    "    return assign_age(year)\n",
    "\n",
    "def extract_year(row):\n",
    "  year_in_parens = re.compile('(?<=\\()(\\d{4})(?=\\))')\n",
    "  result = year_in_parens.search(row['title'])\n",
    "  if result:\n",
    "    return result.group(0)\n",
    "  else: \n",
    "    return None\n",
    "  \n",
    "def assign_age(year):\n",
    "    if year == None:\n",
    "      return \"unknown\"\n",
    "    year = dt.datetime(int(year), 1, 1)\n",
    "    if year < dt.datetime(1970, 1, 1):\n",
    "        return \"old\"\n",
    "    elif year < dt.datetime(1990, 1, 1):\n",
    "        return \"medium\"\n",
    "    else:\n",
    "        return \"new\""
   ]
  },
  {
   "cell_type": "code",
   "execution_count": 72,
   "metadata": {},
   "outputs": [
    {
     "name": "stdout",
     "output_type": "stream",
     "text": [
      "       movieId                          title  age\n",
      "27273   131254   Kein Bund für's Leben (2007)  new\n",
      "27274   131256  Feuer, Eis & Dosenbier (2002)  new\n",
      "27275   131258             The Pirates (2014)  new\n",
      "27276   131260            Rentun Ruusu (2001)  new\n",
      "27277   131262               Innocence (2014)  new\n"
     ]
    }
   ],
   "source": [
    "# Applying classify_age returns a new column 'age' with 4 classes: 'old', 'medium', 'new' and 'unknown'\n",
    "\n",
    "movies['age'] = movies.apply(classify_age, axis=1)\n",
    "\n",
    "print(movies.tail())\n",
    "\n",
    "# If time permits: come back and print samples of each!!"
   ]
  },
  {
   "cell_type": "code",
   "execution_count": 163,
   "metadata": {},
   "outputs": [
    {
     "name": "stdout",
     "output_type": "stream",
     "text": [
      "Totals Counts of Each Age\n",
      " age\n",
      "medium      4674\n",
      "new        17118\n",
      "old         5464\n",
      "unknown       22\n",
      "Name: title, dtype: int64\n"
     ]
    }
   ],
   "source": [
    "age_counts = movies.groupby('age')['title'].count()\n",
    "\n",
    "print('Totals Counts of Each Age\\n', age_counts)"
   ]
  },
  {
   "cell_type": "code",
   "execution_count": 69,
   "metadata": {},
   "outputs": [
    {
     "name": "stdout",
     "output_type": "stream",
     "text": [
      "   movieId                               title  age   average\n",
      "0        1                    Toy Story (1995)  new  3.921240\n",
      "1        2                      Jumanji (1995)  new  3.211977\n",
      "2        3             Grumpier Old Men (1995)  new  3.151040\n",
      "3        4            Waiting to Exhale (1995)  new  2.861393\n",
      "4        5  Father of the Bride Part II (1995)  new  3.064592\n"
     ]
    }
   ],
   "source": [
    "# Inner join movies and ratings by movieId. Validate one-to-one relationship.\n",
    "\n",
    "movie_ratings = pd.merge(movies, average_ratings, validate=\"1:1\")\n",
    "\n",
    "print(movie_ratings.head())"
   ]
  },
  {
   "cell_type": "code",
   "execution_count": 112,
   "metadata": {},
   "outputs": [
    {
     "name": "stdout",
     "output_type": "stream",
     "text": [
      "Lowest by Rating\n",
      "        movieId                         title     age  average\n",
      "19755    97915     Lookin' to Get Out (1982)  medium      0.5\n",
      "23186   111046  Golden Christmas 3, A (2012)     new      0.5\n",
      "23185   111044    Golden Christmas, A (2009)     new      0.5\n",
      "24207   115631    Alone for Christmas (2013)     new      0.5\n",
      "24647   117630         Double Trouble (1992)     new      0.5\n",
      "\n",
      "Highest by Rating\n",
      "        movieId                            title  age  average\n",
      "24643   117606                   Divorce (1945)  old      5.0\n",
      "19258    95977               Junior Prom (1946)  old      5.0\n",
      "12005    54326                Sierra, La (2005)  new      5.0\n",
      "25239   121039  A Night for Dying Tigers (2010)  new      5.0\n",
      "25240   121063  The House on 56th Street (1933)  old      5.0\n"
     ]
    }
   ],
   "source": [
    "# Sorting movies by average rating\n",
    "\n",
    "movie_ratings = movie_ratings.sort_values(by=['average'], ascending=False)\n",
    "\n",
    "print(\"Lowest by Rating\\n\", movie_ratings.tail())\n",
    "print(\"\\nHighest by Rating\\n\", movie_ratings.head())"
   ]
  },
  {
   "cell_type": "code",
   "execution_count": 113,
   "metadata": {},
   "outputs": [
    {
     "name": "stdout",
     "output_type": "stream",
     "text": [
      "Length of Total Movie Ratings List\n",
      " (26744, 4)\n",
      "\n",
      "Best 20 percent (Median: 3.85 )\n",
      " (5349, 4) \n",
      "        movieId                            title  age  average\n",
      "24643   117606                   Divorce (1945)  old      5.0\n",
      "19258    95977               Junior Prom (1946)  old      5.0\n",
      "12005    54326                Sierra, La (2005)  new      5.0\n",
      "25239   121039  A Night for Dying Tigers (2010)  new      5.0\n",
      "25240   121063  The House on 56th Street (1933)  old      5.0\n",
      "\n",
      "Middle 20 percent (Median: 3.24 )\n",
      " (5350, 4) \n",
      "        movieId                                              title  age  \\\n",
      "248        251                                 Hunted, The (1995)  new   \n",
      "2167      2252                                        Hero (1992)  new   \n",
      "13767    69061                            Personal Effects (2009)  new   \n",
      "11321    48214  Land of Plenty (Angst and Alienation in Americ...  new   \n",
      "15404    78635  Under the North Star (Täällä Pohjantähden alla...  new   \n",
      "\n",
      "        average  \n",
      "248    3.050258  \n",
      "2167   3.050031  \n",
      "13767  3.050000  \n",
      "11321  3.050000  \n",
      "15404  3.050000  \n",
      "\n",
      "Worst 20 percent (Median: 2.3 )\n",
      " (5349, 4) \n",
      "        movieId                         title     age  average\n",
      "19755    97915     Lookin' to Get Out (1982)  medium      0.5\n",
      "23186   111046  Golden Christmas 3, A (2012)     new      0.5\n",
      "23185   111044    Golden Christmas, A (2009)     new      0.5\n",
      "24207   115631    Alone for Christmas (2013)     new      0.5\n",
      "24647   117630         Double Trouble (1992)     new      0.5\n"
     ]
    }
   ],
   "source": [
    "print('Length of Total Movie Ratings List\\n', movie_ratings.shape)\n",
    "\n",
    "# Top 20 percent\n",
    "best = movie_ratings.iloc[:5349,:]\n",
    "best_median = best[\"average\"].median()\n",
    "print('\\nBest 20 percent (Median:', round(best_median, 2), ')\\n', best.shape, '\\n', best.head())\n",
    "\n",
    "# Middle 20 percent\n",
    "ok = movie_ratings.iloc[10697:16047,:]\n",
    "ok_median = ok[\"average\"].median()\n",
    "print('\\nMiddle 20 percent (Median:', round(ok_median, 2), ')\\n', ok.shape, '\\n', ok.tail())\n",
    "\n",
    "# Worst 20 percent\n",
    "worst = movie_ratings.iloc[21395:,:]\n",
    "worst_median = worst[\"average\"].median()\n",
    "print('\\nWorst 20 percent (Median:', round(worst_median, 2), ')\\n', worst.shape, '\\n', worst.tail())"
   ]
  },
  {
   "cell_type": "code",
   "execution_count": 132,
   "metadata": {},
   "outputs": [],
   "source": [
    "# Extract 55 percent of our dataset randomly, from which to predict outcomes of remaining 45 percent\n",
    "\n",
    "data_array = movie_ratings.values\n",
    "np.random.shuffle(data_array)\n",
    "\n",
    "X_learning = data_array[:14709][:,3]\n",
    "Y_learning = data_array[:14709][:,2]"
   ]
  },
  {
   "cell_type": "code",
   "execution_count": 146,
   "metadata": {},
   "outputs": [],
   "source": [
    "# \"Teach\" our machine about the relationships between 'average' and 'age'\n",
    "# (but first we need to reshape our X np array into a 1-D array)\n",
    "\n",
    "svc = SVC()\n",
    "svc.fit(X_learning.reshape(-1, 1), Y_learning)\n",
    "\n",
    "# Use the remaining 45 percent of our data as test data\n",
    "X = data_array[-12035:][:,3]\n",
    "Y = data_array[-12035:][:,2]\n",
    "\n",
    "predictions = svc.predict(X.reshape(-1, 1))"
   ]
  },
  {
   "cell_type": "code",
   "execution_count": 147,
   "metadata": {},
   "outputs": [
    {
     "name": "stdout",
     "output_type": "stream",
     "text": [
      "Predicted Results: ['new' 'new' 'new' ... 'new' 'new' 'new']\n",
      "\n",
      "Actual Results: ['new' 'new' 'medium' ... 'new' 'new' 'medium']\n",
      "\n",
      "Accuracy rating:  0.638222\n"
     ]
    }
   ],
   "source": [
    "print(\"Predicted Results:\", predictions)\n",
    "print(\"\\nActual Results:\", Y)\n",
    "print(\"\\nAccuracy rating:  %f\" % (accuracy_score(Y, predictions)))"
   ]
  },
  {
   "cell_type": "code",
   "execution_count": 155,
   "metadata": {},
   "outputs": [
    {
     "name": "stdout",
     "output_type": "stream",
     "text": [
      "[[   0 2056    0    0]\n",
      " [   0 7681    0    0]\n",
      " [   0 2292    0    0]\n",
      " [   0    6    0    0]]\n",
      "             precision    recall  f1-score   support\n",
      "\n",
      "     medium       0.00      0.00      0.00      2056\n",
      "        new       0.64      1.00      0.78      7681\n",
      "        old       0.00      0.00      0.00      2292\n",
      "    unknown       0.00      0.00      0.00         6\n",
      "\n",
      "avg / total       0.41      0.64      0.50     12035\n",
      "\n"
     ]
    },
    {
     "name": "stderr",
     "output_type": "stream",
     "text": [
      "/anaconda3/lib/python3.6/site-packages/sklearn/metrics/classification.py:1135: UndefinedMetricWarning: Precision and F-score are ill-defined and being set to 0.0 in labels with no predicted samples.\n",
      "  'precision', 'predicted', average, warn_for)\n"
     ]
    }
   ],
   "source": [
    "print(confusion_matrix(Y, predictions))\n",
    "print(classification_report(Y, predictions))"
   ]
  },
  {
   "cell_type": "code",
   "execution_count": 154,
   "metadata": {},
   "outputs": [],
   "source": [
    "# /anaconda3/lib/python3.6/site-packages/sklearn/metrics/classification.py:1135: UndefinedMetricWarning: Precision and F-score are ill-defined and being set to 0.0 in labels with no predicted samples.\n",
    "#   'precision', 'predicted', average, warn_for)"
   ]
  },
  {
   "cell_type": "code",
   "execution_count": null,
   "metadata": {},
   "outputs": [],
   "source": []
  }
 ],
 "metadata": {
  "kernelspec": {
   "display_name": "Python 3",
   "language": "python",
   "name": "python3"
  },
  "language_info": {
   "codemirror_mode": {
    "name": "ipython",
    "version": 3
   },
   "file_extension": ".py",
   "mimetype": "text/x-python",
   "name": "python",
   "nbconvert_exporter": "python",
   "pygments_lexer": "ipython3",
   "version": "3.6.5"
  }
 },
 "nbformat": 4,
 "nbformat_minor": 2
}
